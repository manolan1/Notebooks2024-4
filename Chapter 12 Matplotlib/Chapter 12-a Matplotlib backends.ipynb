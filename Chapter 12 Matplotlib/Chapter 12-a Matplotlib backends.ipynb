{
 "cells": [
  {
   "cell_type": "markdown",
   "metadata": {
    "colab_type": "text",
    "id": "udrKEO31YSpQ"
   },
   "source": [
    "# Matplotlib Back-ends\n",
    "\n",
    "Very often, when working in a notebook, we would like plots to be rendered inline and interactively. To do this, we need to select the right _back-end_.\n",
    "<br>\n",
    "- The `%matplotlib` magic command enables a _matplotlib back-end_ that controls how plots are displayed:\n",
    "\n",
    "  - `%matplotlib` or `%matplotlib inline` render plots within the normal output (here that means in the notebook)\n",
    "    - this is generally a safe option, but it is not interactive\n",
    "    - we will use this option in the course because the results are rendered directly in the notebook, which should be less confusing.\n",
    "  - `%matplotlib qt5` launches interactive plots in a separate window  \n",
    "  - `%matplotlib tk` is similar  \n",
    "  - `%matplotlib -l` lists the available back-ends, but does not guarantee that they are installed  \n",
    "<br>\n",
    "\n",
    "- Once you have started a notebook with a given back-end, you cannot change it using the magic command. \n",
    "  - To change back-end, you need to stop and restart the kernel. \n",
    "  - Or you can change it programmatically using `matplotlib.pyplot.switch_backend(<backend module>)`, but you will need to know the exact backend name.\n",
    "<br><br>\n",
    "\n",
    "- Older notebooks may use one of these: \n",
    "  - `%matplotlib notebook`: this was a convenient option because it rendered the plot inside the notebook as an interactive element. Since the new version of notebook, based on JupyterLab, this no longer works.\n",
    "  - `%pylab`: this sets up a _qt_ back-end similar to `qt5` above. It also sets up a large number of imports. The creators of jupyter have not deprecated `%pylab`, but would prefer people to stop using it. The principle reason is that it imports a large number of functions into the global namespace.\n"
   ]
  },
  {
   "cell_type": "markdown",
   "metadata": {},
   "source": [
    "## Best Option For JupyterLab\n",
    "\n",
    "This is probably _ipympl_, but you have to install it separately:\n",
    "\n",
    "`conda install -c conda-forge ipympl`\n",
    "\n",
    "And it can be used with:\n",
    "\n",
    "`%matplotlib ipympl` (or `%matplotlib widget` if you have a slightly older version)\n",
    "\n",
    "If you can, `ipympl` is preferred over `widget` and `widget` is removed in the latest versions."
   ]
  },
  {
   "cell_type": "markdown",
   "metadata": {},
   "source": [
    "## Differences Between Back-ends\n",
    "\n",
    "The two main differences between back-ends for general purpose use are whether it is interactive and whether it displays inline or in a separate window.\n",
    "\n",
    "Interactive back-ends have options to zoom, rotate, save the current view, etc. They generally allow the figure to be built up bit by bit, viewing the effect of each command as it is executed. Non-interactive back-ends usually just render the diagram as a picture (bitmap, vector, pdf, PostScript).\n",
    "\n",
    "There may be some small measurement differences between back-ends and you may want to adjust separation between subplots or between labels and axes, for example, when switching from an interactive to non-interactive back-end.\n",
    "\n",
    "The mechanism for displaying the figure when working in a notebook may be a little different between back-ends. For example, working with the old `notebook` back-end, the notebook itself would take care of displaying the results by calling `.show()` after each cell, where appropriate. When using the `inline` back-end, it is usually best to display the figure by ending a cell with `fig` rather than `fig.show()`."
   ]
  },
  {
   "cell_type": "markdown",
   "metadata": {
    "colab_type": "text",
    "id": "mMi4v5KHYSpR"
   },
   "source": [
    "## Finding Installed back-ends"
   ]
  },
  {
   "cell_type": "markdown",
   "metadata": {},
   "source": [
    "`inline` is always guaranteed to be supported, but it can be difficult to see which other back-ends are installed."
   ]
  },
  {
   "cell_type": "code",
   "execution_count": null,
   "metadata": {
    "colab": {},
    "colab_type": "code",
    "id": "UEQycUX0YSpK"
   },
   "outputs": [],
   "source": [
    "import matplotlib.pyplot as plt\n",
    "\n",
    "import time\n",
    "import math\n",
    "\n",
    "import matplotlib.backends\n",
    "import os.path\n",
    "import numpy as np"
   ]
  },
  {
   "cell_type": "code",
   "execution_count": null,
   "metadata": {
    "colab": {},
    "colab_type": "code",
    "id": "5S_EQ0ruYSpT"
   },
   "outputs": [],
   "source": [
    "def is_backend_module(fname):\n",
    "    \"\"\"Identifies if a filename is a matplotlib backend module\"\"\"\n",
    "    return fname.startswith('backend_') and fname.endswith('.py')\n",
    "\n",
    "def backend_fname_formatter(fname): \n",
    "    \"\"\"Removes the extension of the given filename, then takes away the leading 'backend_'.\"\"\"\n",
    "    return os.path.splitext(fname)[0][8:]\n",
    "\n",
    "# get the directory where the backends live\n",
    "backends_dir = os.path.dirname(matplotlib.backends.__file__)\n",
    "\n",
    "# filter all files in that directory to identify all files which provide a backend\n",
    "backend_fnames = filter(is_backend_module, os.listdir(backends_dir))\n",
    "\n",
    "backends = [backend_fname_formatter(fname) for fname in backend_fnames]\n",
    "\n",
    "print(\"supported backends: \\t\" + str(backends))\n",
    "\n",
    "# validate backends\n",
    "backends_valid = []\n",
    "for b in backends:\n",
    "    try:\n",
    "        plt.switch_backend(b)\n",
    "        backends_valid += [b]\n",
    "    except:\n",
    "        continue\n",
    "\n",
    "print(\"valid backends: \\t\" + str(backends_valid))"
   ]
  },
  {
   "cell_type": "markdown",
   "metadata": {
    "colab_type": "text",
    "id": "RiCvkPtPYSrb"
   },
   "source": [
    "# End of Notebook"
   ]
  }
 ],
 "metadata": {
  "colab": {
   "include_colab_link": true,
   "name": "05-01-Plotting-pyplot.ipynb",
   "provenance": []
  },
  "kernelspec": {
   "display_name": "Python 3 (ipykernel)",
   "language": "python",
   "name": "python3"
  },
  "language_info": {
   "codemirror_mode": {
    "name": "ipython",
    "version": 3
   },
   "file_extension": ".py",
   "mimetype": "text/x-python",
   "name": "python",
   "nbconvert_exporter": "python",
   "pygments_lexer": "ipython3",
   "version": "3.8.19"
  }
 },
 "nbformat": 4,
 "nbformat_minor": 4
}
